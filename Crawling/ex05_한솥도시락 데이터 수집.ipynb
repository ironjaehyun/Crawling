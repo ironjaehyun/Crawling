{
 "cells": [
  {
   "cell_type": "code",
   "execution_count": 2,
   "id": "d1cbb615",
   "metadata": {},
   "outputs": [],
   "source": [
    "from selenium import webdriver as wb\n",
    "from selenium.webdriver.common.by import By\n",
    "import pandas as pd"
   ]
  },
  {
   "cell_type": "code",
   "execution_count": 3,
   "id": "bd16a110",
   "metadata": {},
   "outputs": [],
   "source": [
    "# 1. 크롬드라이버를 실행\n",
    "# 2. 한솥사이트로 이동"
   ]
  },
  {
   "cell_type": "code",
   "execution_count": 6,
   "id": "2c953cb5",
   "metadata": {},
   "outputs": [],
   "source": [
    "driver = wb.Chrome()"
   ]
  },
  {
   "cell_type": "code",
   "execution_count": 7,
   "id": "e695fd6d",
   "metadata": {},
   "outputs": [],
   "source": [
    "driver = wb.Chrome()\n",
    "driver.get(\"https://www.hsd.co.kr/menu/menu_list\")"
   ]
  },
  {
   "cell_type": "code",
   "execution_count": 20,
   "id": "76833984",
   "metadata": {},
   "outputs": [
    {
     "data": {
      "text/plain": [
       "'유린기'"
      ]
     },
     "execution_count": 20,
     "metadata": {},
     "output_type": "execute_result"
    }
   ],
   "source": [
    "# 3. 상품명 수집\n",
    "# selenium 활용할 때는, soup을 만들지 않는다.\n",
    "# * bs = 텍스트데이터를 html데이터로 변형하는 목적\n",
    "menu = driver.find_elements(By.CSS_SELECTOR,\"h4.h.fz_03\")\n",
    "menu[0].text"
   ]
  },
  {
   "cell_type": "code",
   "execution_count": 25,
   "id": "5990c57a",
   "metadata": {
    "collapsed": true
   },
   "outputs": [
    {
     "data": {
      "text/plain": [
       "[<selenium.webdriver.remote.webelement.WebElement (session=\"3adc59e00eb21786c7dc4a9c7bae064c\", element=\"16E66099EB4B2E026359103F3041326D_element_34\")>,\n",
       " <selenium.webdriver.remote.webelement.WebElement (session=\"3adc59e00eb21786c7dc4a9c7bae064c\", element=\"16E66099EB4B2E026359103F3041326D_element_98\")>,\n",
       " <selenium.webdriver.remote.webelement.WebElement (session=\"3adc59e00eb21786c7dc4a9c7bae064c\", element=\"16E66099EB4B2E026359103F3041326D_element_99\")>,\n",
       " <selenium.webdriver.remote.webelement.WebElement (session=\"3adc59e00eb21786c7dc4a9c7bae064c\", element=\"16E66099EB4B2E026359103F3041326D_element_100\")>,\n",
       " <selenium.webdriver.remote.webelement.WebElement (session=\"3adc59e00eb21786c7dc4a9c7bae064c\", element=\"16E66099EB4B2E026359103F3041326D_element_101\")>,\n",
       " <selenium.webdriver.remote.webelement.WebElement (session=\"3adc59e00eb21786c7dc4a9c7bae064c\", element=\"16E66099EB4B2E026359103F3041326D_element_102\")>,\n",
       " <selenium.webdriver.remote.webelement.WebElement (session=\"3adc59e00eb21786c7dc4a9c7bae064c\", element=\"16E66099EB4B2E026359103F3041326D_element_103\")>,\n",
       " <selenium.webdriver.remote.webelement.WebElement (session=\"3adc59e00eb21786c7dc4a9c7bae064c\", element=\"16E66099EB4B2E026359103F3041326D_element_104\")>,\n",
       " <selenium.webdriver.remote.webelement.WebElement (session=\"3adc59e00eb21786c7dc4a9c7bae064c\", element=\"16E66099EB4B2E026359103F3041326D_element_105\")>,\n",
       " <selenium.webdriver.remote.webelement.WebElement (session=\"3adc59e00eb21786c7dc4a9c7bae064c\", element=\"16E66099EB4B2E026359103F3041326D_element_106\")>,\n",
       " <selenium.webdriver.remote.webelement.WebElement (session=\"3adc59e00eb21786c7dc4a9c7bae064c\", element=\"16E66099EB4B2E026359103F3041326D_element_107\")>,\n",
       " <selenium.webdriver.remote.webelement.WebElement (session=\"3adc59e00eb21786c7dc4a9c7bae064c\", element=\"16E66099EB4B2E026359103F3041326D_element_108\")>,\n",
       " <selenium.webdriver.remote.webelement.WebElement (session=\"3adc59e00eb21786c7dc4a9c7bae064c\", element=\"16E66099EB4B2E026359103F3041326D_element_109\")>,\n",
       " <selenium.webdriver.remote.webelement.WebElement (session=\"3adc59e00eb21786c7dc4a9c7bae064c\", element=\"16E66099EB4B2E026359103F3041326D_element_110\")>,\n",
       " <selenium.webdriver.remote.webelement.WebElement (session=\"3adc59e00eb21786c7dc4a9c7bae064c\", element=\"16E66099EB4B2E026359103F3041326D_element_111\")>,\n",
       " <selenium.webdriver.remote.webelement.WebElement (session=\"3adc59e00eb21786c7dc4a9c7bae064c\", element=\"16E66099EB4B2E026359103F3041326D_element_112\")>,\n",
       " <selenium.webdriver.remote.webelement.WebElement (session=\"3adc59e00eb21786c7dc4a9c7bae064c\", element=\"16E66099EB4B2E026359103F3041326D_element_113\")>,\n",
       " <selenium.webdriver.remote.webelement.WebElement (session=\"3adc59e00eb21786c7dc4a9c7bae064c\", element=\"16E66099EB4B2E026359103F3041326D_element_114\")>,\n",
       " <selenium.webdriver.remote.webelement.WebElement (session=\"3adc59e00eb21786c7dc4a9c7bae064c\", element=\"16E66099EB4B2E026359103F3041326D_element_115\")>,\n",
       " <selenium.webdriver.remote.webelement.WebElement (session=\"3adc59e00eb21786c7dc4a9c7bae064c\", element=\"16E66099EB4B2E026359103F3041326D_element_116\")>,\n",
       " <selenium.webdriver.remote.webelement.WebElement (session=\"3adc59e00eb21786c7dc4a9c7bae064c\", element=\"16E66099EB4B2E026359103F3041326D_element_117\")>,\n",
       " <selenium.webdriver.remote.webelement.WebElement (session=\"3adc59e00eb21786c7dc4a9c7bae064c\", element=\"16E66099EB4B2E026359103F3041326D_element_118\")>,\n",
       " <selenium.webdriver.remote.webelement.WebElement (session=\"3adc59e00eb21786c7dc4a9c7bae064c\", element=\"16E66099EB4B2E026359103F3041326D_element_119\")>,\n",
       " <selenium.webdriver.remote.webelement.WebElement (session=\"3adc59e00eb21786c7dc4a9c7bae064c\", element=\"16E66099EB4B2E026359103F3041326D_element_120\")>,\n",
       " <selenium.webdriver.remote.webelement.WebElement (session=\"3adc59e00eb21786c7dc4a9c7bae064c\", element=\"16E66099EB4B2E026359103F3041326D_element_121\")>,\n",
       " <selenium.webdriver.remote.webelement.WebElement (session=\"3adc59e00eb21786c7dc4a9c7bae064c\", element=\"16E66099EB4B2E026359103F3041326D_element_122\")>,\n",
       " <selenium.webdriver.remote.webelement.WebElement (session=\"3adc59e00eb21786c7dc4a9c7bae064c\", element=\"16E66099EB4B2E026359103F3041326D_element_123\")>,\n",
       " <selenium.webdriver.remote.webelement.WebElement (session=\"3adc59e00eb21786c7dc4a9c7bae064c\", element=\"16E66099EB4B2E026359103F3041326D_element_124\")>,\n",
       " <selenium.webdriver.remote.webelement.WebElement (session=\"3adc59e00eb21786c7dc4a9c7bae064c\", element=\"16E66099EB4B2E026359103F3041326D_element_125\")>,\n",
       " <selenium.webdriver.remote.webelement.WebElement (session=\"3adc59e00eb21786c7dc4a9c7bae064c\", element=\"16E66099EB4B2E026359103F3041326D_element_126\")>,\n",
       " <selenium.webdriver.remote.webelement.WebElement (session=\"3adc59e00eb21786c7dc4a9c7bae064c\", element=\"16E66099EB4B2E026359103F3041326D_element_127\")>,\n",
       " <selenium.webdriver.remote.webelement.WebElement (session=\"3adc59e00eb21786c7dc4a9c7bae064c\", element=\"16E66099EB4B2E026359103F3041326D_element_128\")>,\n",
       " <selenium.webdriver.remote.webelement.WebElement (session=\"3adc59e00eb21786c7dc4a9c7bae064c\", element=\"16E66099EB4B2E026359103F3041326D_element_129\")>,\n",
       " <selenium.webdriver.remote.webelement.WebElement (session=\"3adc59e00eb21786c7dc4a9c7bae064c\", element=\"16E66099EB4B2E026359103F3041326D_element_130\")>,\n",
       " <selenium.webdriver.remote.webelement.WebElement (session=\"3adc59e00eb21786c7dc4a9c7bae064c\", element=\"16E66099EB4B2E026359103F3041326D_element_131\")>,\n",
       " <selenium.webdriver.remote.webelement.WebElement (session=\"3adc59e00eb21786c7dc4a9c7bae064c\", element=\"16E66099EB4B2E026359103F3041326D_element_132\")>,\n",
       " <selenium.webdriver.remote.webelement.WebElement (session=\"3adc59e00eb21786c7dc4a9c7bae064c\", element=\"16E66099EB4B2E026359103F3041326D_element_133\")>,\n",
       " <selenium.webdriver.remote.webelement.WebElement (session=\"3adc59e00eb21786c7dc4a9c7bae064c\", element=\"16E66099EB4B2E026359103F3041326D_element_134\")>,\n",
       " <selenium.webdriver.remote.webelement.WebElement (session=\"3adc59e00eb21786c7dc4a9c7bae064c\", element=\"16E66099EB4B2E026359103F3041326D_element_135\")>,\n",
       " <selenium.webdriver.remote.webelement.WebElement (session=\"3adc59e00eb21786c7dc4a9c7bae064c\", element=\"16E66099EB4B2E026359103F3041326D_element_136\")>,\n",
       " <selenium.webdriver.remote.webelement.WebElement (session=\"3adc59e00eb21786c7dc4a9c7bae064c\", element=\"16E66099EB4B2E026359103F3041326D_element_137\")>,\n",
       " <selenium.webdriver.remote.webelement.WebElement (session=\"3adc59e00eb21786c7dc4a9c7bae064c\", element=\"16E66099EB4B2E026359103F3041326D_element_138\")>,\n",
       " <selenium.webdriver.remote.webelement.WebElement (session=\"3adc59e00eb21786c7dc4a9c7bae064c\", element=\"16E66099EB4B2E026359103F3041326D_element_139\")>,\n",
       " <selenium.webdriver.remote.webelement.WebElement (session=\"3adc59e00eb21786c7dc4a9c7bae064c\", element=\"16E66099EB4B2E026359103F3041326D_element_140\")>,\n",
       " <selenium.webdriver.remote.webelement.WebElement (session=\"3adc59e00eb21786c7dc4a9c7bae064c\", element=\"16E66099EB4B2E026359103F3041326D_element_141\")>,\n",
       " <selenium.webdriver.remote.webelement.WebElement (session=\"3adc59e00eb21786c7dc4a9c7bae064c\", element=\"16E66099EB4B2E026359103F3041326D_element_142\")>,\n",
       " <selenium.webdriver.remote.webelement.WebElement (session=\"3adc59e00eb21786c7dc4a9c7bae064c\", element=\"16E66099EB4B2E026359103F3041326D_element_143\")>,\n",
       " <selenium.webdriver.remote.webelement.WebElement (session=\"3adc59e00eb21786c7dc4a9c7bae064c\", element=\"16E66099EB4B2E026359103F3041326D_element_144\")>,\n",
       " <selenium.webdriver.remote.webelement.WebElement (session=\"3adc59e00eb21786c7dc4a9c7bae064c\", element=\"16E66099EB4B2E026359103F3041326D_element_145\")>,\n",
       " <selenium.webdriver.remote.webelement.WebElement (session=\"3adc59e00eb21786c7dc4a9c7bae064c\", element=\"16E66099EB4B2E026359103F3041326D_element_146\")>,\n",
       " <selenium.webdriver.remote.webelement.WebElement (session=\"3adc59e00eb21786c7dc4a9c7bae064c\", element=\"16E66099EB4B2E026359103F3041326D_element_147\")>,\n",
       " <selenium.webdriver.remote.webelement.WebElement (session=\"3adc59e00eb21786c7dc4a9c7bae064c\", element=\"16E66099EB4B2E026359103F3041326D_element_148\")>,\n",
       " <selenium.webdriver.remote.webelement.WebElement (session=\"3adc59e00eb21786c7dc4a9c7bae064c\", element=\"16E66099EB4B2E026359103F3041326D_element_149\")>,\n",
       " <selenium.webdriver.remote.webelement.WebElement (session=\"3adc59e00eb21786c7dc4a9c7bae064c\", element=\"16E66099EB4B2E026359103F3041326D_element_150\")>,\n",
       " <selenium.webdriver.remote.webelement.WebElement (session=\"3adc59e00eb21786c7dc4a9c7bae064c\", element=\"16E66099EB4B2E026359103F3041326D_element_151\")>,\n",
       " <selenium.webdriver.remote.webelement.WebElement (session=\"3adc59e00eb21786c7dc4a9c7bae064c\", element=\"16E66099EB4B2E026359103F3041326D_element_152\")>,\n",
       " <selenium.webdriver.remote.webelement.WebElement (session=\"3adc59e00eb21786c7dc4a9c7bae064c\", element=\"16E66099EB4B2E026359103F3041326D_element_153\")>,\n",
       " <selenium.webdriver.remote.webelement.WebElement (session=\"3adc59e00eb21786c7dc4a9c7bae064c\", element=\"16E66099EB4B2E026359103F3041326D_element_154\")>,\n",
       " <selenium.webdriver.remote.webelement.WebElement (session=\"3adc59e00eb21786c7dc4a9c7bae064c\", element=\"16E66099EB4B2E026359103F3041326D_element_155\")>,\n",
       " <selenium.webdriver.remote.webelement.WebElement (session=\"3adc59e00eb21786c7dc4a9c7bae064c\", element=\"16E66099EB4B2E026359103F3041326D_element_156\")>,\n",
       " <selenium.webdriver.remote.webelement.WebElement (session=\"3adc59e00eb21786c7dc4a9c7bae064c\", element=\"16E66099EB4B2E026359103F3041326D_element_157\")>,\n",
       " <selenium.webdriver.remote.webelement.WebElement (session=\"3adc59e00eb21786c7dc4a9c7bae064c\", element=\"16E66099EB4B2E026359103F3041326D_element_158\")>,\n",
       " <selenium.webdriver.remote.webelement.WebElement (session=\"3adc59e00eb21786c7dc4a9c7bae064c\", element=\"16E66099EB4B2E026359103F3041326D_element_159\")>,\n",
       " <selenium.webdriver.remote.webelement.WebElement (session=\"3adc59e00eb21786c7dc4a9c7bae064c\", element=\"16E66099EB4B2E026359103F3041326D_element_160\")>]"
      ]
     },
     "execution_count": 25,
     "metadata": {},
     "output_type": "execute_result"
    }
   ],
   "source": [
    "# 4. 상품가격 수집\n",
    "price = driver.find_elements(By.CSS_SELECTOR,\"div > div.item-text > div > strong\")\n",
    "price"
   ]
  },
  {
   "cell_type": "code",
   "execution_count": 26,
   "id": "31e892e7",
   "metadata": {},
   "outputs": [
    {
     "data": {
      "text/plain": [
       "64"
      ]
     },
     "execution_count": 26,
     "metadata": {},
     "output_type": "execute_result"
    }
   ],
   "source": [
    "len(menu)"
   ]
  },
  {
   "cell_type": "code",
   "execution_count": 27,
   "id": "5c342ffe",
   "metadata": {},
   "outputs": [
    {
     "data": {
      "text/plain": [
       "64"
      ]
     },
     "execution_count": 27,
     "metadata": {},
     "output_type": "execute_result"
    }
   ],
   "source": [
    "len(price)"
   ]
  },
  {
   "cell_type": "code",
   "execution_count": 32,
   "id": "1e2671cf",
   "metadata": {},
   "outputs": [],
   "source": [
    "# 더보기 클릭\n",
    "btn = driver.find_element(By.CSS_SELECTOR,\"#btn_more > span > a\")\n",
    "btn.click()"
   ]
  },
  {
   "cell_type": "code",
   "execution_count": 30,
   "id": "10830f3c",
   "metadata": {},
   "outputs": [
    {
     "ename": "TypeError",
     "evalue": "WebElement.click() takes 1 positional argument but 2 were given",
     "output_type": "error",
     "traceback": [
      "\u001b[1;31m---------------------------------------------------------------------------\u001b[0m",
      "\u001b[1;31mTypeError\u001b[0m                                 Traceback (most recent call last)",
      "Cell \u001b[1;32mIn[30], line 4\u001b[0m\n\u001b[0;32m      2\u001b[0m \u001b[38;5;28;01mfor\u001b[39;00m i \u001b[38;5;129;01min\u001b[39;00m \u001b[38;5;28mrange\u001b[39m(\u001b[38;5;241m5\u001b[39m):\n\u001b[0;32m      3\u001b[0m     btn \u001b[38;5;241m=\u001b[39m driver\u001b[38;5;241m.\u001b[39mfind_element(By\u001b[38;5;241m.\u001b[39mCSS_SELECTOR,\u001b[38;5;124m\"\u001b[39m\u001b[38;5;124m#btn_more > span > a\u001b[39m\u001b[38;5;124m\"\u001b[39m)\n\u001b[1;32m----> 4\u001b[0m     \u001b[43mbtn\u001b[49m\u001b[38;5;241;43m.\u001b[39;49m\u001b[43mclick\u001b[49m\u001b[43m(\u001b[49m\u001b[43mi\u001b[49m\u001b[43m)\u001b[49m\n",
      "\u001b[1;31mTypeError\u001b[0m: WebElement.click() takes 1 positional argument but 2 were given"
     ]
    }
   ],
   "source": [
    "# 더보기를 반복해서 클릭 기능\n",
    "for i in range(5):\n",
    "    btn = driver.find_element(By.CSS_SELECTOR,\"#btn_more > span > a\")\n",
    "    btn.click()"
   ]
  },
  {
   "cell_type": "markdown",
   "id": "1579353c",
   "metadata": {},
   "source": [
    "# try,except 예외처리\n",
    "- try : 에러가 나기전까지 코드를 실행할 부분\n",
    "- except : 에러가 났을때 코드를 실행할 부분\n"
   ]
  },
  {
   "cell_type": "code",
   "execution_count": 38,
   "id": "ad3d5531",
   "metadata": {},
   "outputs": [
    {
     "name": "stdout",
     "output_type": "stream",
     "text": [
      "더보기가 완료되었습니다.\n"
     ]
    }
   ],
   "source": [
    "try : \n",
    "    # 에러가 나기 전까지 실행할 코드\n",
    "    for i in range(10):\n",
    "        btn = driver.find_element(By.CSS_SELECTOR,\"#btn_more > span > a\")\n",
    "        btn.click()\n",
    "except : \n",
    "    # 에러가 났을때 실행할 코드\n",
    "    print(\"더보기가 완료되었습니다.\")"
   ]
  },
  {
   "cell_type": "code",
   "execution_count": 39,
   "id": "fdfa4e2c",
   "metadata": {},
   "outputs": [],
   "source": [
    "menu = driver.find_elements(By.CSS_SELECTOR,\"h4.h.fz_03\")\n",
    "price = driver.find_elements(By.CSS_SELECTOR,\"div > div.item-text > div > strong\")"
   ]
  },
  {
   "cell_type": "code",
   "execution_count": 40,
   "id": "cb0d541e",
   "metadata": {},
   "outputs": [
    {
     "data": {
      "text/plain": [
       "98"
      ]
     },
     "execution_count": 40,
     "metadata": {},
     "output_type": "execute_result"
    }
   ],
   "source": [
    "len(menu)"
   ]
  },
  {
   "cell_type": "code",
   "execution_count": 41,
   "id": "c1ba926a",
   "metadata": {},
   "outputs": [
    {
     "data": {
      "text/plain": [
       "98"
      ]
     },
     "execution_count": 41,
     "metadata": {},
     "output_type": "execute_result"
    }
   ],
   "source": [
    "len(price)"
   ]
  },
  {
   "cell_type": "markdown",
   "id": "5f8043ab",
   "metadata": {},
   "source": [
    "## 사람답게 코딩을 하기위해 time\n",
    "- 코드가 너무 빠르게 진행될 때, 데이터 통신에 오류가 발생\n",
    "- 코드 중간중간 쉬는 시간을 부여\n",
    "- time.sleep(초)"
   ]
  },
  {
   "cell_type": "code",
   "execution_count": 42,
   "id": "1440bcc2",
   "metadata": {},
   "outputs": [],
   "source": [
    "import time"
   ]
  },
  {
   "cell_type": "code",
   "execution_count": 43,
   "id": "b1ad9d2c",
   "metadata": {},
   "outputs": [
    {
     "name": "stdout",
     "output_type": "stream",
     "text": [
      "더보기가 완료되었습니다.\n"
     ]
    }
   ],
   "source": [
    "driver = wb.Chrome()\n",
    "driver.get(\"https://www.hsd.co.kr/menu/menu_list\")\n",
    "time.sleep(1)\n",
    "try : \n",
    "    # 에러가 나기 전까지 실행할 코드\n",
    "    for i in range(10):\n",
    "        btn = driver.find_element(By.CSS_SELECTOR,\"#btn_more > span > a\")\n",
    "        btn.click()\n",
    "        time.sleep(1)\n",
    "except : \n",
    "    # 에러가 났을때 실행할 코드\n",
    "    print(\"더보기가 완료되었습니다.\")\n",
    "    \n",
    "menu = driver.find_elements(By.CSS_SELECTOR,\"h4.h.fz_03\")\n",
    "price = driver.find_elements(By.CSS_SELECTOR,\"div > div.item-text > div > strong\")"
   ]
  },
  {
   "cell_type": "code",
   "execution_count": 44,
   "id": "f4c90044",
   "metadata": {},
   "outputs": [
    {
     "data": {
      "text/plain": [
       "98"
      ]
     },
     "execution_count": 44,
     "metadata": {},
     "output_type": "execute_result"
    }
   ],
   "source": [
    "len(menu)"
   ]
  },
  {
   "cell_type": "code",
   "execution_count": 46,
   "id": "3fd1c1e6",
   "metadata": {
    "collapsed": true
   },
   "outputs": [
    {
     "data": {
      "text/plain": [
       "['유린기',\n",
       " '송정식 떡갈비',\n",
       " '크룽지+페루 찬차마요 드립백 커피',\n",
       " '크룽지',\n",
       " '빅새치마요',\n",
       " '새치마요',\n",
       " '한우 함박스테이크&돈까스',\n",
       " '한우 함박스테이크&토네이도 소세지',\n",
       " '해바라기',\n",
       " '매화',\n",
       " '진달래',\n",
       " '개나리',\n",
       " '돈까스도련님고기고기',\n",
       " '탕수육도련님고기고기',\n",
       " '새치 고기고기',\n",
       " '돈치 고기고기',\n",
       " '카츠카츠',\n",
       " '숯불직화구이',\n",
       " '소불고기',\n",
       " '메가치킨제육',\n",
       " '칠리 찹쌀탕수육도련님',\n",
       " '동백',\n",
       " '치킨제육',\n",
       " '돈까스도련님',\n",
       " '제육볶음',\n",
       " '돈치스팸',\n",
       " '제육 김치찌개 정식',\n",
       " '제육 김치 부대찌개 정식',\n",
       " '돈치스팸 김치 부대찌개 정식',\n",
       " '빅치킨마요 김치 부대찌개 정식',\n",
       " '치킨마요 김치 부대찌개 정식',\n",
       " '빅치킨마요 김치찌개 정식',\n",
       " '치킨마요 김치찌개 정식',\n",
       " '메가스팸마요',\n",
       " '스팸마요',\n",
       " '메가치킨마요',\n",
       " '왕치킨마요',\n",
       " '빅치킨마요',\n",
       " '치킨마요',\n",
       " '참치마요',\n",
       " '돈치마요',\n",
       " '돈까스 카레',\n",
       " '잡채볶음밥(중화풍 매운맛)',\n",
       " '잡채볶음밥(오리지널)',\n",
       " '스팸 김치볶음밥',\n",
       " '김치볶음밥',\n",
       " '스팸 철판볶음밥',\n",
       " '소불고기 철판볶음밥',\n",
       " '나시고랭',\n",
       " '묵은지 김치찌개',\n",
       " '김치 부대찌개',\n",
       " '핫 치즈 닭갈비덮밥',\n",
       " '오리지널 치즈 닭갈비덮밥',\n",
       " '숯불직화구이 덮밥',\n",
       " '마파두부 덮밥',\n",
       " '왕카레돈까스덮밥',\n",
       " '새우돈까스 덮밥',\n",
       " '돈까스 덮밥',\n",
       " '아보카도 훈제 닭가슴살 명란 비빔밥',\n",
       " '아보카도 소불고기 명란 비빔밥',\n",
       " '소불고기 감초고추장 비빔밥',\n",
       " '시골제육 두부강된장 비빔밥',\n",
       " '참치야채 감초고추장 비빔밥',\n",
       " '튼튼도시락',\n",
       " '반찬 묵은지김치찌개',\n",
       " '반찬 카레',\n",
       " '반찬 순살 고등어 간장구이',\n",
       " '반찬 김치 부대찌개',\n",
       " '반찬 치킨',\n",
       " '반찬 고기고기',\n",
       " '반찬 돈까스도련님',\n",
       " '반찬 제육볶음',\n",
       " '반찬 토네이도 소세지',\n",
       " '반찬 돈까스',\n",
       " '치즈버터 해시 포테이토 스틱',\n",
       " '허니버터 해시 포테이토 스틱',\n",
       " '해시 포테이토 스틱',\n",
       " '뉴 감자고로케',\n",
       " '미니 찹쌀핫도그',\n",
       " '미니 찹쌀탕수육',\n",
       " '케이준후라이',\n",
       " '통현미 닭강정(소)',\n",
       " '통현미 닭강정(중)',\n",
       " '후라이드 순살(중)',\n",
       " '후라이드 순살(소)_양념치킨소스',\n",
       " '후라이드 순살(소)_케이준소스',\n",
       " '3종 미니반찬B',\n",
       " '3종 미니반찬A',\n",
       " '오징어젓갈',\n",
       " '한솥 두부강된장소스',\n",
       " '한솥 감초볶음고추장소스',\n",
       " '볶음김치',\n",
       " '김치',\n",
       " '무말랭이 무침',\n",
       " '한솥밥',\n",
       " '현미밥',\n",
       " '리얼 티라미수 찰떡',\n",
       " '리얼꿀 미니호떡']"
      ]
     },
     "execution_count": 46,
     "metadata": {},
     "output_type": "execute_result"
    }
   ],
   "source": [
    "# 데이터 프레임 제작\n",
    "menu_list = []\n",
    "for i in menu :\n",
    "    menu_list.append(i.text)\n",
    "menu_list"
   ]
  },
  {
   "cell_type": "code",
   "execution_count": 47,
   "id": "d156358e",
   "metadata": {
    "collapsed": true
   },
   "outputs": [
    {
     "data": {
      "text/plain": [
       "['6,600',\n",
       " '6,900',\n",
       " '2,900',\n",
       " '1,900',\n",
       " '4,600',\n",
       " '4,000',\n",
       " '8,900',\n",
       " '8,900',\n",
       " '10,000',\n",
       " '10,500',\n",
       " '7,800',\n",
       " '8,500',\n",
       " '6,500',\n",
       " '6,000',\n",
       " '7,000',\n",
       " '6,000',\n",
       " '4,800',\n",
       " '6,600',\n",
       " '5,500',\n",
       " '7,500',\n",
       " '4,400',\n",
       " '6,000',\n",
       " '4,900',\n",
       " '4,800',\n",
       " '4,500',\n",
       " '5,000',\n",
       " '8,600',\n",
       " '9,000',\n",
       " '9,000',\n",
       " '8,000',\n",
       " '7,400',\n",
       " '7,500',\n",
       " '6,900',\n",
       " '5,800',\n",
       " '3,900',\n",
       " '6,000',\n",
       " '5,000',\n",
       " '4,300',\n",
       " '3,700',\n",
       " '3,500',\n",
       " '4,000',\n",
       " '4,700',\n",
       " '5,500',\n",
       " '5,300',\n",
       " '4,700',\n",
       " '3,900',\n",
       " '4,700',\n",
       " '4,900',\n",
       " '6,200',\n",
       " '4,900',\n",
       " '6,000',\n",
       " '5,900',\n",
       " '5,900',\n",
       " '6,000',\n",
       " '5,000',\n",
       " '6,000',\n",
       " '4,200',\n",
       " '4,100',\n",
       " '6,500',\n",
       " '6,500',\n",
       " '5,400',\n",
       " '5,200',\n",
       " '3,500',\n",
       " '5,000',\n",
       " '4,400',\n",
       " '2,900',\n",
       " '3,900',\n",
       " '4,900',\n",
       " '3,800',\n",
       " '3,600',\n",
       " '4,100',\n",
       " '3,500',\n",
       " '3,200',\n",
       " '2,900',\n",
       " '2,200',\n",
       " '2,200',\n",
       " '2,000',\n",
       " '2,700',\n",
       " '2,800',\n",
       " '2,200',\n",
       " '1,900',\n",
       " '3,500',\n",
       " '8,500',\n",
       " '7,500',\n",
       " '4,000',\n",
       " '4,000',\n",
       " '1,300',\n",
       " '1,300',\n",
       " '600',\n",
       " '1,800',\n",
       " '500',\n",
       " '500',\n",
       " '400',\n",
       " '500',\n",
       " '1,000',\n",
       " '1,700',\n",
       " '1,700',\n",
       " '2,200']"
      ]
     },
     "execution_count": 47,
     "metadata": {},
     "output_type": "execute_result"
    }
   ],
   "source": [
    "price_list = []\n",
    "for i in price :\n",
    "    price_list.append(i.text)\n",
    "price_list"
   ]
  },
  {
   "cell_type": "code",
   "execution_count": 48,
   "id": "38ebfd82",
   "metadata": {},
   "outputs": [],
   "source": [
    "import pandas as pd"
   ]
  },
  {
   "cell_type": "code",
   "execution_count": 49,
   "id": "c7a98936",
   "metadata": {},
   "outputs": [],
   "source": [
    "dic = {\"메뉴\" : menu_list, \"가격\" : price_list}"
   ]
  },
  {
   "cell_type": "code",
   "execution_count": 50,
   "id": "15fe6c98",
   "metadata": {
    "collapsed": true
   },
   "outputs": [
    {
     "data": {
      "text/html": [
       "<div>\n",
       "<style scoped>\n",
       "    .dataframe tbody tr th:only-of-type {\n",
       "        vertical-align: middle;\n",
       "    }\n",
       "\n",
       "    .dataframe tbody tr th {\n",
       "        vertical-align: top;\n",
       "    }\n",
       "\n",
       "    .dataframe thead th {\n",
       "        text-align: right;\n",
       "    }\n",
       "</style>\n",
       "<table border=\"1\" class=\"dataframe\">\n",
       "  <thead>\n",
       "    <tr style=\"text-align: right;\">\n",
       "      <th></th>\n",
       "      <th>메뉴</th>\n",
       "      <th>가격</th>\n",
       "    </tr>\n",
       "  </thead>\n",
       "  <tbody>\n",
       "    <tr>\n",
       "      <th>0</th>\n",
       "      <td>유린기</td>\n",
       "      <td>6,600</td>\n",
       "    </tr>\n",
       "    <tr>\n",
       "      <th>1</th>\n",
       "      <td>송정식 떡갈비</td>\n",
       "      <td>6,900</td>\n",
       "    </tr>\n",
       "    <tr>\n",
       "      <th>2</th>\n",
       "      <td>크룽지+페루 찬차마요 드립백 커피</td>\n",
       "      <td>2,900</td>\n",
       "    </tr>\n",
       "    <tr>\n",
       "      <th>3</th>\n",
       "      <td>크룽지</td>\n",
       "      <td>1,900</td>\n",
       "    </tr>\n",
       "    <tr>\n",
       "      <th>4</th>\n",
       "      <td>빅새치마요</td>\n",
       "      <td>4,600</td>\n",
       "    </tr>\n",
       "    <tr>\n",
       "      <th>...</th>\n",
       "      <td>...</td>\n",
       "      <td>...</td>\n",
       "    </tr>\n",
       "    <tr>\n",
       "      <th>93</th>\n",
       "      <td>무말랭이 무침</td>\n",
       "      <td>500</td>\n",
       "    </tr>\n",
       "    <tr>\n",
       "      <th>94</th>\n",
       "      <td>한솥밥</td>\n",
       "      <td>1,000</td>\n",
       "    </tr>\n",
       "    <tr>\n",
       "      <th>95</th>\n",
       "      <td>현미밥</td>\n",
       "      <td>1,700</td>\n",
       "    </tr>\n",
       "    <tr>\n",
       "      <th>96</th>\n",
       "      <td>리얼 티라미수 찰떡</td>\n",
       "      <td>1,700</td>\n",
       "    </tr>\n",
       "    <tr>\n",
       "      <th>97</th>\n",
       "      <td>리얼꿀 미니호떡</td>\n",
       "      <td>2,200</td>\n",
       "    </tr>\n",
       "  </tbody>\n",
       "</table>\n",
       "<p>98 rows × 2 columns</p>\n",
       "</div>"
      ],
      "text/plain": [
       "                    메뉴     가격\n",
       "0                  유린기  6,600\n",
       "1              송정식 떡갈비  6,900\n",
       "2   크룽지+페루 찬차마요 드립백 커피  2,900\n",
       "3                  크룽지  1,900\n",
       "4                빅새치마요  4,600\n",
       "..                 ...    ...\n",
       "93             무말랭이 무침    500\n",
       "94                 한솥밥  1,000\n",
       "95                 현미밥  1,700\n",
       "96          리얼 티라미수 찰떡  1,700\n",
       "97            리얼꿀 미니호떡  2,200\n",
       "\n",
       "[98 rows x 2 columns]"
      ]
     },
     "execution_count": 50,
     "metadata": {},
     "output_type": "execute_result"
    }
   ],
   "source": [
    "pd.DataFrame(dic)"
   ]
  },
  {
   "cell_type": "code",
   "execution_count": 51,
   "id": "b95ab416",
   "metadata": {},
   "outputs": [],
   "source": [
    "han = pd.DataFrame(dic)"
   ]
  },
  {
   "cell_type": "code",
   "execution_count": 53,
   "id": "9f5e50a5",
   "metadata": {
    "collapsed": true
   },
   "outputs": [
    {
     "ename": "PermissionError",
     "evalue": "[Errno 13] Permission denied: '한솥메뉴,가격.csv'",
     "output_type": "error",
     "traceback": [
      "\u001b[1;31m---------------------------------------------------------------------------\u001b[0m",
      "\u001b[1;31mPermissionError\u001b[0m                           Traceback (most recent call last)",
      "Cell \u001b[1;32mIn[53], line 6\u001b[0m\n\u001b[0;32m      1\u001b[0m \u001b[38;5;66;03m# 한글이 깨지지 않게 CSV파일로 저장\u001b[39;00m\n\u001b[0;32m      2\u001b[0m \u001b[38;5;66;03m# 데이터베이스에 파일을 임포트 가능\u001b[39;00m\n\u001b[0;32m      3\u001b[0m \u001b[38;5;66;03m# 주의점\u001b[39;00m\n\u001b[0;32m      4\u001b[0m \u001b[38;5;66;03m# 1. csv파일의 컬럼명과 테이블의 컬럼명이 일치, 순서 일치\u001b[39;00m\n\u001b[0;32m      5\u001b[0m \u001b[38;5;66;03m# 2. 데이터베이스 ㅓㄹ럼의 데이터 타입을 반드시 맞춘다.\u001b[39;00m\n\u001b[1;32m----> 6\u001b[0m \u001b[43mhan\u001b[49m\u001b[38;5;241;43m.\u001b[39;49m\u001b[43mto_csv\u001b[49m\u001b[43m(\u001b[49m\u001b[38;5;124;43m\"\u001b[39;49m\u001b[38;5;124;43m한솥메뉴,가격.csv\u001b[39;49m\u001b[38;5;124;43m\"\u001b[39;49m\u001b[43m,\u001b[49m\u001b[43m \u001b[49m\u001b[43mencoding\u001b[49m\u001b[38;5;241;43m=\u001b[39;49m\u001b[38;5;124;43m\"\u001b[39;49m\u001b[38;5;124;43meuc-kr\u001b[39;49m\u001b[38;5;124;43m\"\u001b[39;49m\u001b[43m)\u001b[49m\n",
      "File \u001b[1;32m~\\anaconda3\\lib\\site-packages\\pandas\\util\\_decorators.py:211\u001b[0m, in \u001b[0;36mdeprecate_kwarg.<locals>._deprecate_kwarg.<locals>.wrapper\u001b[1;34m(*args, **kwargs)\u001b[0m\n\u001b[0;32m    209\u001b[0m     \u001b[38;5;28;01melse\u001b[39;00m:\n\u001b[0;32m    210\u001b[0m         kwargs[new_arg_name] \u001b[38;5;241m=\u001b[39m new_arg_value\n\u001b[1;32m--> 211\u001b[0m \u001b[38;5;28;01mreturn\u001b[39;00m func(\u001b[38;5;241m*\u001b[39margs, \u001b[38;5;241m*\u001b[39m\u001b[38;5;241m*\u001b[39mkwargs)\n",
      "File \u001b[1;32m~\\anaconda3\\lib\\site-packages\\pandas\\core\\generic.py:3720\u001b[0m, in \u001b[0;36mNDFrame.to_csv\u001b[1;34m(self, path_or_buf, sep, na_rep, float_format, columns, header, index, index_label, mode, encoding, compression, quoting, quotechar, lineterminator, chunksize, date_format, doublequote, escapechar, decimal, errors, storage_options)\u001b[0m\n\u001b[0;32m   3709\u001b[0m df \u001b[38;5;241m=\u001b[39m \u001b[38;5;28mself\u001b[39m \u001b[38;5;28;01mif\u001b[39;00m \u001b[38;5;28misinstance\u001b[39m(\u001b[38;5;28mself\u001b[39m, ABCDataFrame) \u001b[38;5;28;01melse\u001b[39;00m \u001b[38;5;28mself\u001b[39m\u001b[38;5;241m.\u001b[39mto_frame()\n\u001b[0;32m   3711\u001b[0m formatter \u001b[38;5;241m=\u001b[39m DataFrameFormatter(\n\u001b[0;32m   3712\u001b[0m     frame\u001b[38;5;241m=\u001b[39mdf,\n\u001b[0;32m   3713\u001b[0m     header\u001b[38;5;241m=\u001b[39mheader,\n\u001b[1;32m   (...)\u001b[0m\n\u001b[0;32m   3717\u001b[0m     decimal\u001b[38;5;241m=\u001b[39mdecimal,\n\u001b[0;32m   3718\u001b[0m )\n\u001b[1;32m-> 3720\u001b[0m \u001b[38;5;28;01mreturn\u001b[39;00m \u001b[43mDataFrameRenderer\u001b[49m\u001b[43m(\u001b[49m\u001b[43mformatter\u001b[49m\u001b[43m)\u001b[49m\u001b[38;5;241;43m.\u001b[39;49m\u001b[43mto_csv\u001b[49m\u001b[43m(\u001b[49m\n\u001b[0;32m   3721\u001b[0m \u001b[43m    \u001b[49m\u001b[43mpath_or_buf\u001b[49m\u001b[43m,\u001b[49m\n\u001b[0;32m   3722\u001b[0m \u001b[43m    \u001b[49m\u001b[43mlineterminator\u001b[49m\u001b[38;5;241;43m=\u001b[39;49m\u001b[43mlineterminator\u001b[49m\u001b[43m,\u001b[49m\n\u001b[0;32m   3723\u001b[0m \u001b[43m    \u001b[49m\u001b[43msep\u001b[49m\u001b[38;5;241;43m=\u001b[39;49m\u001b[43msep\u001b[49m\u001b[43m,\u001b[49m\n\u001b[0;32m   3724\u001b[0m \u001b[43m    \u001b[49m\u001b[43mencoding\u001b[49m\u001b[38;5;241;43m=\u001b[39;49m\u001b[43mencoding\u001b[49m\u001b[43m,\u001b[49m\n\u001b[0;32m   3725\u001b[0m \u001b[43m    \u001b[49m\u001b[43merrors\u001b[49m\u001b[38;5;241;43m=\u001b[39;49m\u001b[43merrors\u001b[49m\u001b[43m,\u001b[49m\n\u001b[0;32m   3726\u001b[0m \u001b[43m    \u001b[49m\u001b[43mcompression\u001b[49m\u001b[38;5;241;43m=\u001b[39;49m\u001b[43mcompression\u001b[49m\u001b[43m,\u001b[49m\n\u001b[0;32m   3727\u001b[0m \u001b[43m    \u001b[49m\u001b[43mquoting\u001b[49m\u001b[38;5;241;43m=\u001b[39;49m\u001b[43mquoting\u001b[49m\u001b[43m,\u001b[49m\n\u001b[0;32m   3728\u001b[0m \u001b[43m    \u001b[49m\u001b[43mcolumns\u001b[49m\u001b[38;5;241;43m=\u001b[39;49m\u001b[43mcolumns\u001b[49m\u001b[43m,\u001b[49m\n\u001b[0;32m   3729\u001b[0m \u001b[43m    \u001b[49m\u001b[43mindex_label\u001b[49m\u001b[38;5;241;43m=\u001b[39;49m\u001b[43mindex_label\u001b[49m\u001b[43m,\u001b[49m\n\u001b[0;32m   3730\u001b[0m \u001b[43m    \u001b[49m\u001b[43mmode\u001b[49m\u001b[38;5;241;43m=\u001b[39;49m\u001b[43mmode\u001b[49m\u001b[43m,\u001b[49m\n\u001b[0;32m   3731\u001b[0m \u001b[43m    \u001b[49m\u001b[43mchunksize\u001b[49m\u001b[38;5;241;43m=\u001b[39;49m\u001b[43mchunksize\u001b[49m\u001b[43m,\u001b[49m\n\u001b[0;32m   3732\u001b[0m \u001b[43m    \u001b[49m\u001b[43mquotechar\u001b[49m\u001b[38;5;241;43m=\u001b[39;49m\u001b[43mquotechar\u001b[49m\u001b[43m,\u001b[49m\n\u001b[0;32m   3733\u001b[0m \u001b[43m    \u001b[49m\u001b[43mdate_format\u001b[49m\u001b[38;5;241;43m=\u001b[39;49m\u001b[43mdate_format\u001b[49m\u001b[43m,\u001b[49m\n\u001b[0;32m   3734\u001b[0m \u001b[43m    \u001b[49m\u001b[43mdoublequote\u001b[49m\u001b[38;5;241;43m=\u001b[39;49m\u001b[43mdoublequote\u001b[49m\u001b[43m,\u001b[49m\n\u001b[0;32m   3735\u001b[0m \u001b[43m    \u001b[49m\u001b[43mescapechar\u001b[49m\u001b[38;5;241;43m=\u001b[39;49m\u001b[43mescapechar\u001b[49m\u001b[43m,\u001b[49m\n\u001b[0;32m   3736\u001b[0m \u001b[43m    \u001b[49m\u001b[43mstorage_options\u001b[49m\u001b[38;5;241;43m=\u001b[39;49m\u001b[43mstorage_options\u001b[49m\u001b[43m,\u001b[49m\n\u001b[0;32m   3737\u001b[0m \u001b[43m\u001b[49m\u001b[43m)\u001b[49m\n",
      "File \u001b[1;32m~\\anaconda3\\lib\\site-packages\\pandas\\util\\_decorators.py:211\u001b[0m, in \u001b[0;36mdeprecate_kwarg.<locals>._deprecate_kwarg.<locals>.wrapper\u001b[1;34m(*args, **kwargs)\u001b[0m\n\u001b[0;32m    209\u001b[0m     \u001b[38;5;28;01melse\u001b[39;00m:\n\u001b[0;32m    210\u001b[0m         kwargs[new_arg_name] \u001b[38;5;241m=\u001b[39m new_arg_value\n\u001b[1;32m--> 211\u001b[0m \u001b[38;5;28;01mreturn\u001b[39;00m func(\u001b[38;5;241m*\u001b[39margs, \u001b[38;5;241m*\u001b[39m\u001b[38;5;241m*\u001b[39mkwargs)\n",
      "File \u001b[1;32m~\\anaconda3\\lib\\site-packages\\pandas\\io\\formats\\format.py:1189\u001b[0m, in \u001b[0;36mDataFrameRenderer.to_csv\u001b[1;34m(self, path_or_buf, encoding, sep, columns, index_label, mode, compression, quoting, quotechar, lineterminator, chunksize, date_format, doublequote, escapechar, errors, storage_options)\u001b[0m\n\u001b[0;32m   1168\u001b[0m     created_buffer \u001b[38;5;241m=\u001b[39m \u001b[38;5;28;01mFalse\u001b[39;00m\n\u001b[0;32m   1170\u001b[0m csv_formatter \u001b[38;5;241m=\u001b[39m CSVFormatter(\n\u001b[0;32m   1171\u001b[0m     path_or_buf\u001b[38;5;241m=\u001b[39mpath_or_buf,\n\u001b[0;32m   1172\u001b[0m     lineterminator\u001b[38;5;241m=\u001b[39mlineterminator,\n\u001b[1;32m   (...)\u001b[0m\n\u001b[0;32m   1187\u001b[0m     formatter\u001b[38;5;241m=\u001b[39m\u001b[38;5;28mself\u001b[39m\u001b[38;5;241m.\u001b[39mfmt,\n\u001b[0;32m   1188\u001b[0m )\n\u001b[1;32m-> 1189\u001b[0m \u001b[43mcsv_formatter\u001b[49m\u001b[38;5;241;43m.\u001b[39;49m\u001b[43msave\u001b[49m\u001b[43m(\u001b[49m\u001b[43m)\u001b[49m\n\u001b[0;32m   1191\u001b[0m \u001b[38;5;28;01mif\u001b[39;00m created_buffer:\n\u001b[0;32m   1192\u001b[0m     \u001b[38;5;28;01massert\u001b[39;00m \u001b[38;5;28misinstance\u001b[39m(path_or_buf, StringIO)\n",
      "File \u001b[1;32m~\\anaconda3\\lib\\site-packages\\pandas\\io\\formats\\csvs.py:241\u001b[0m, in \u001b[0;36mCSVFormatter.save\u001b[1;34m(self)\u001b[0m\n\u001b[0;32m    237\u001b[0m \u001b[38;5;124;03m\"\"\"\u001b[39;00m\n\u001b[0;32m    238\u001b[0m \u001b[38;5;124;03mCreate the writer & save.\u001b[39;00m\n\u001b[0;32m    239\u001b[0m \u001b[38;5;124;03m\"\"\"\u001b[39;00m\n\u001b[0;32m    240\u001b[0m \u001b[38;5;66;03m# apply compression and byte/text conversion\u001b[39;00m\n\u001b[1;32m--> 241\u001b[0m \u001b[38;5;28;01mwith\u001b[39;00m \u001b[43mget_handle\u001b[49m\u001b[43m(\u001b[49m\n\u001b[0;32m    242\u001b[0m \u001b[43m    \u001b[49m\u001b[38;5;28;43mself\u001b[39;49m\u001b[38;5;241;43m.\u001b[39;49m\u001b[43mfilepath_or_buffer\u001b[49m\u001b[43m,\u001b[49m\n\u001b[0;32m    243\u001b[0m \u001b[43m    \u001b[49m\u001b[38;5;28;43mself\u001b[39;49m\u001b[38;5;241;43m.\u001b[39;49m\u001b[43mmode\u001b[49m\u001b[43m,\u001b[49m\n\u001b[0;32m    244\u001b[0m \u001b[43m    \u001b[49m\u001b[43mencoding\u001b[49m\u001b[38;5;241;43m=\u001b[39;49m\u001b[38;5;28;43mself\u001b[39;49m\u001b[38;5;241;43m.\u001b[39;49m\u001b[43mencoding\u001b[49m\u001b[43m,\u001b[49m\n\u001b[0;32m    245\u001b[0m \u001b[43m    \u001b[49m\u001b[43merrors\u001b[49m\u001b[38;5;241;43m=\u001b[39;49m\u001b[38;5;28;43mself\u001b[39;49m\u001b[38;5;241;43m.\u001b[39;49m\u001b[43merrors\u001b[49m\u001b[43m,\u001b[49m\n\u001b[0;32m    246\u001b[0m \u001b[43m    \u001b[49m\u001b[43mcompression\u001b[49m\u001b[38;5;241;43m=\u001b[39;49m\u001b[38;5;28;43mself\u001b[39;49m\u001b[38;5;241;43m.\u001b[39;49m\u001b[43mcompression\u001b[49m\u001b[43m,\u001b[49m\n\u001b[0;32m    247\u001b[0m \u001b[43m    \u001b[49m\u001b[43mstorage_options\u001b[49m\u001b[38;5;241;43m=\u001b[39;49m\u001b[38;5;28;43mself\u001b[39;49m\u001b[38;5;241;43m.\u001b[39;49m\u001b[43mstorage_options\u001b[49m\u001b[43m,\u001b[49m\n\u001b[0;32m    248\u001b[0m \u001b[43m\u001b[49m\u001b[43m)\u001b[49m \u001b[38;5;28;01mas\u001b[39;00m handles:\n\u001b[0;32m    249\u001b[0m \n\u001b[0;32m    250\u001b[0m     \u001b[38;5;66;03m# Note: self.encoding is irrelevant here\u001b[39;00m\n\u001b[0;32m    251\u001b[0m     \u001b[38;5;28mself\u001b[39m\u001b[38;5;241m.\u001b[39mwriter \u001b[38;5;241m=\u001b[39m csvlib\u001b[38;5;241m.\u001b[39mwriter(\n\u001b[0;32m    252\u001b[0m         handles\u001b[38;5;241m.\u001b[39mhandle,\n\u001b[0;32m    253\u001b[0m         lineterminator\u001b[38;5;241m=\u001b[39m\u001b[38;5;28mself\u001b[39m\u001b[38;5;241m.\u001b[39mlineterminator,\n\u001b[1;32m   (...)\u001b[0m\n\u001b[0;32m    258\u001b[0m         quotechar\u001b[38;5;241m=\u001b[39m\u001b[38;5;28mself\u001b[39m\u001b[38;5;241m.\u001b[39mquotechar,\n\u001b[0;32m    259\u001b[0m     )\n\u001b[0;32m    261\u001b[0m     \u001b[38;5;28mself\u001b[39m\u001b[38;5;241m.\u001b[39m_save()\n",
      "File \u001b[1;32m~\\anaconda3\\lib\\site-packages\\pandas\\io\\common.py:856\u001b[0m, in \u001b[0;36mget_handle\u001b[1;34m(path_or_buf, mode, encoding, compression, memory_map, is_text, errors, storage_options)\u001b[0m\n\u001b[0;32m    851\u001b[0m \u001b[38;5;28;01melif\u001b[39;00m \u001b[38;5;28misinstance\u001b[39m(handle, \u001b[38;5;28mstr\u001b[39m):\n\u001b[0;32m    852\u001b[0m     \u001b[38;5;66;03m# Check whether the filename is to be opened in binary mode.\u001b[39;00m\n\u001b[0;32m    853\u001b[0m     \u001b[38;5;66;03m# Binary mode does not support 'encoding' and 'newline'.\u001b[39;00m\n\u001b[0;32m    854\u001b[0m     \u001b[38;5;28;01mif\u001b[39;00m ioargs\u001b[38;5;241m.\u001b[39mencoding \u001b[38;5;129;01mand\u001b[39;00m \u001b[38;5;124m\"\u001b[39m\u001b[38;5;124mb\u001b[39m\u001b[38;5;124m\"\u001b[39m \u001b[38;5;129;01mnot\u001b[39;00m \u001b[38;5;129;01min\u001b[39;00m ioargs\u001b[38;5;241m.\u001b[39mmode:\n\u001b[0;32m    855\u001b[0m         \u001b[38;5;66;03m# Encoding\u001b[39;00m\n\u001b[1;32m--> 856\u001b[0m         handle \u001b[38;5;241m=\u001b[39m \u001b[38;5;28;43mopen\u001b[39;49m\u001b[43m(\u001b[49m\n\u001b[0;32m    857\u001b[0m \u001b[43m            \u001b[49m\u001b[43mhandle\u001b[49m\u001b[43m,\u001b[49m\n\u001b[0;32m    858\u001b[0m \u001b[43m            \u001b[49m\u001b[43mioargs\u001b[49m\u001b[38;5;241;43m.\u001b[39;49m\u001b[43mmode\u001b[49m\u001b[43m,\u001b[49m\n\u001b[0;32m    859\u001b[0m \u001b[43m            \u001b[49m\u001b[43mencoding\u001b[49m\u001b[38;5;241;43m=\u001b[39;49m\u001b[43mioargs\u001b[49m\u001b[38;5;241;43m.\u001b[39;49m\u001b[43mencoding\u001b[49m\u001b[43m,\u001b[49m\n\u001b[0;32m    860\u001b[0m \u001b[43m            \u001b[49m\u001b[43merrors\u001b[49m\u001b[38;5;241;43m=\u001b[39;49m\u001b[43merrors\u001b[49m\u001b[43m,\u001b[49m\n\u001b[0;32m    861\u001b[0m \u001b[43m            \u001b[49m\u001b[43mnewline\u001b[49m\u001b[38;5;241;43m=\u001b[39;49m\u001b[38;5;124;43m\"\u001b[39;49m\u001b[38;5;124;43m\"\u001b[39;49m\u001b[43m,\u001b[49m\n\u001b[0;32m    862\u001b[0m \u001b[43m        \u001b[49m\u001b[43m)\u001b[49m\n\u001b[0;32m    863\u001b[0m     \u001b[38;5;28;01melse\u001b[39;00m:\n\u001b[0;32m    864\u001b[0m         \u001b[38;5;66;03m# Binary mode\u001b[39;00m\n\u001b[0;32m    865\u001b[0m         handle \u001b[38;5;241m=\u001b[39m \u001b[38;5;28mopen\u001b[39m(handle, ioargs\u001b[38;5;241m.\u001b[39mmode)\n",
      "\u001b[1;31mPermissionError\u001b[0m: [Errno 13] Permission denied: '한솥메뉴,가격.csv'"
     ]
    }
   ],
   "source": [
    "# 한글이 깨지지 않게 CSV파일로 저장\n",
    "# 데이터베이스에 파일을 임포트 가능\n",
    "# 주의점\n",
    "# 1. csv파일의 컬럼명과 테이블의 컬럼명이 일치, 순서 일치\n",
    "# 2. 데이터베이스 ㅓㄹ럼의 데이터 타입을 반드시 맞춘다.\n",
    "han.to_csv(\"한솥메뉴,가격.csv\", encoding=\"euc-kr\")"
   ]
  },
  {
   "cell_type": "code",
   "execution_count": null,
   "id": "16e83c53",
   "metadata": {},
   "outputs": [],
   "source": []
  }
 ],
 "metadata": {
  "kernelspec": {
   "display_name": "Python 3 (ipykernel)",
   "language": "python",
   "name": "python3"
  },
  "language_info": {
   "codemirror_mode": {
    "name": "ipython",
    "version": 3
   },
   "file_extension": ".py",
   "mimetype": "text/x-python",
   "name": "python",
   "nbconvert_exporter": "python",
   "pygments_lexer": "ipython3",
   "version": "3.10.9"
  }
 },
 "nbformat": 4,
 "nbformat_minor": 5
}
