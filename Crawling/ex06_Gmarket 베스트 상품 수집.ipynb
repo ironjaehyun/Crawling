{
 "cells": [
  {
   "cell_type": "code",
   "execution_count": 1,
   "id": "cd8f1a3f",
   "metadata": {},
   "outputs": [],
   "source": [
    "from selenium import webdriver as wb\n",
    "from selenium.webdriver.common.by import By\n",
    "import time"
   ]
  },
  {
   "cell_type": "code",
   "execution_count": 2,
   "id": "df23ce04",
   "metadata": {},
   "outputs": [],
   "source": [
    "driver = wb.Chrome()\n",
    "driver.get(\"https://www.gmarket.co.kr/n/best\")"
   ]
  },
  {
   "cell_type": "code",
   "execution_count": 9,
   "id": "1fc7556f",
   "metadata": {},
   "outputs": [],
   "source": [
    "# 1. 상품을 클릭\n",
    "img = driver.find_elements(By.CSS_SELECTOR,\"img.image__lazy.image__load\")\n",
    "img[0].click()"
   ]
  },
  {
   "cell_type": "code",
   "execution_count": 17,
   "id": "103eec80",
   "metadata": {},
   "outputs": [],
   "source": [
    "menu = driver.find_elements(By.CSS_SELECTOR,\"h1.itemtit\")"
   ]
  },
  {
   "cell_type": "code",
   "execution_count": 18,
   "id": "5252488a",
   "metadata": {},
   "outputs": [
    {
     "data": {
      "text/plain": [
       "'테이스트킹 캐나다 냉동 자숙 랍스터 450g x 4미 / (소비기한 24년 6월 5일)'"
      ]
     },
     "execution_count": 18,
     "metadata": {},
     "output_type": "execute_result"
    }
   ],
   "source": [
    "menu[0].text"
   ]
  },
  {
   "cell_type": "code",
   "execution_count": 15,
   "id": "99929083",
   "metadata": {},
   "outputs": [],
   "source": [
    "price = driver.find_elements(By.CSS_SELECTOR,\"#itemcase_basic > div > div.price > span.price_innerwrap > strong\")"
   ]
  },
  {
   "cell_type": "code",
   "execution_count": 16,
   "id": "6988e030",
   "metadata": {},
   "outputs": [
    {
     "data": {
      "text/plain": [
       "'28,900원'"
      ]
     },
     "execution_count": 16,
     "metadata": {},
     "output_type": "execute_result"
    }
   ],
   "source": [
    "price[0].text"
   ]
  },
  {
   "cell_type": "code",
   "execution_count": 19,
   "id": "c785ff7e",
   "metadata": {},
   "outputs": [],
   "source": [
    "# 뒤로가기\n",
    "driver.back()"
   ]
  },
  {
   "cell_type": "code",
   "execution_count": 30,
   "id": "f13500b7",
   "metadata": {},
   "outputs": [],
   "source": [
    "# 반복작업 코드 작성\n",
    "menu_list = []\n",
    "price_list = []\n",
    "\n",
    "for i in range(5) :\n",
    "    img = driver.find_elements(By.CSS_SELECTOR,\"img.image__lazy.image__load\")\n",
    "    img[i].click()\n",
    "    time.sleep(2)\n",
    "    try :\n",
    "        price = driver.find_element(By.CSS_SELECTOR,\"#itemcase_basic > div > div.price > span.price_innerwrap.price_innerwrap-coupon > strong\")\n",
    "    except :\n",
    "        price = driver.find_element(By.CSS_SELECTOR,\"#itemcase_basic > div > div.price > span.price_innerwrap > strong\")\n",
    "    menu = driver.find_element(By.CSS_SELECTOR,\"#itemcase_basic > div > h1\")\n",
    "    menu_list.append(menu.text)\n",
    "    price_list.append(price.text)\n",
    "    driver.back()\n",
    "    time.sleep(2)"
   ]
  },
  {
   "cell_type": "code",
   "execution_count": 31,
   "id": "bbbfdb63",
   "metadata": {},
   "outputs": [
    {
     "data": {
      "text/plain": [
       "['28,900원', '8,900원', '7,660원', '21,510원', '169,800원']"
      ]
     },
     "execution_count": 31,
     "metadata": {},
     "output_type": "execute_result"
    }
   ],
   "source": [
    "price_list"
   ]
  },
  {
   "cell_type": "code",
   "execution_count": 32,
   "id": "2143bca8",
   "metadata": {},
   "outputs": [
    {
     "data": {
      "text/plain": [
       "['테이스트킹 캐나다 냉동 자숙 랍스터 450g x 4미 / (소비기한 24년 6월 5일)',\n",
       " '굽네 오븐구이 통삼겹 슬라이스 150g 2종 4팩 (임박특가 팩당 2225원꼴) 총 600g',\n",
       " '폴햄키즈 약기모 맨투맨/조거팬츠 택1 PKC4TR1810/PKC4PT1821',\n",
       " '춘천 명물 닭갈비 700g x4팩(총2.8kg)',\n",
       " '수퍼맘스토리/영국/상상그이상의 정통 챕터북/매버릭챕터 리더스/5주내배송']"
      ]
     },
     "execution_count": 32,
     "metadata": {},
     "output_type": "execute_result"
    }
   ],
   "source": [
    "menu_list"
   ]
  },
  {
   "cell_type": "markdown",
   "id": "148ef83c",
   "metadata": {},
   "source": [
    "# 크롤링 프로세스\n",
    "- 데이터 준비 단계 / 데이터 수집 단계 / 데이터 가공 단계 / 데이터 활용 단계\n",
    "- 1. 데이터 요청 : 페이지의 정보를 요청 ex) req.get() , driver.get()\n",
    "- 2. 데이터 수집 : html코드 속에서 필요한 요소들을 수집 ex) soup.select(),\n",
    "get_element()\n",
    "- 3. 데이터 가공 : 요소 속에 내가 필요한 텍스트 or 속성을 수집하는 단계 ex)비어있는 리스트 제작\n",
    "- 4. 데이터 활용 : 가공된 데이터를 활용 ex) 데이터프레임, CSV, DB저장, 딥러닝 학습\n",
    "\n",
    "- for문을 작성 할 때는, 반드시 하나의 완벽한 코드 로직을 작성 (반복할 코드)\n",
    "- 반복될 코드가 완성이 되면, for 감싸준다. -> 예외처리 등을 해준다.\n",
    "- 항상 사람처럼 코딩을 작성하자 ★ time.sleep() 적절하게 활용\n",
    "- 절대 코드를 run all 돌리지 말자.\n"
   ]
  }
 ],
 "metadata": {
  "kernelspec": {
   "display_name": "Python 3 (ipykernel)",
   "language": "python",
   "name": "python3"
  },
  "language_info": {
   "codemirror_mode": {
    "name": "ipython",
    "version": 3
   },
   "file_extension": ".py",
   "mimetype": "text/x-python",
   "name": "python",
   "nbconvert_exporter": "python",
   "pygments_lexer": "ipython3",
   "version": "3.10.9"
  }
 },
 "nbformat": 4,
 "nbformat_minor": 5
}
